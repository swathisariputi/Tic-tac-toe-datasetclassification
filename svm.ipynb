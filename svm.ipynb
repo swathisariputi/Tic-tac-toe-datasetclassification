{
  "nbformat": 4,
  "nbformat_minor": 0,
  "metadata": {
    "colab": {
      "name": "svm-inbuilt.ipynb",
      "provenance": [],
      "collapsed_sections": []
    },
    "kernelspec": {
      "name": "python3",
      "display_name": "Python 3"
    },
    "language_info": {
      "name": "python"
    }
  },
  "cells": [
    {
      "cell_type": "code",
      "metadata": {
        "colab": {
          "resources": {
            "http://localhost:8080/nbextensions/google.colab/files.js": {
              "data": "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",
              "ok": true,
              "headers": [
                [
                  "content-type",
                  "application/javascript"
                ]
              ],
              "status": 200,
              "status_text": "OK"
            }
          },
          "base_uri": "https://localhost:8080/",
          "height": 112
        },
        "id": "A5gE0BolXidC",
        "outputId": "f31eb2a2-f06b-4ca5-a465-81ac1059b668"
      },
      "source": [
        "from google.colab import files\n",
        "files.upload()"
      ],
      "execution_count": 1,
      "outputs": [
        {
          "output_type": "display_data",
          "data": {
            "text/html": [
              "\n",
              "     <input type=\"file\" id=\"files-aa803633-e2b9-450a-b4b2-e748a7f15fc4\" name=\"files[]\" multiple disabled\n",
              "        style=\"border:none\" />\n",
              "     <output id=\"result-aa803633-e2b9-450a-b4b2-e748a7f15fc4\">\n",
              "      Upload widget is only available when the cell has been executed in the\n",
              "      current browser session. Please rerun this cell to enable.\n",
              "      </output>\n",
              "      <script src=\"/nbextensions/google.colab/files.js\"></script> "
            ],
            "text/plain": [
              "<IPython.core.display.HTML object>"
            ]
          },
          "metadata": {}
        },
        {
          "output_type": "stream",
          "name": "stdout",
          "text": [
            "Saving tic-tac-toe.csv to tic-tac-toe.csv\n"
          ]
        },
        {
          "output_type": "execute_result",
          "data": {
            "text/plain": [
              "{'tic-tac-toe.csv': b'top-left-square,top-middle-square,top-right-square,middle-left-square,middle-middle-square,middle-right-square,bottom-left-square,bottom-middle-square,bottom-right-square,class\\nx,x,x,x,o,o,x,o,o,positive\\nx,x,x,x,o,o,o,x,o,positive\\nx,x,x,x,o,o,o,o,x,positive\\nx,x,x,x,o,o,o,b,b,positive\\nx,x,x,x,o,o,b,o,b,positive\\nx,x,x,x,o,o,b,b,o,positive\\nx,x,x,x,o,b,o,o,b,positive\\nx,x,x,x,o,b,o,b,o,positive\\nx,x,x,x,o,b,b,o,o,positive\\nx,x,x,x,b,o,o,o,b,positive\\nx,x,x,x,b,o,o,b,o,positive\\nx,x,x,x,b,o,b,o,o,positive\\nx,x,x,o,x,o,x,o,o,positive\\nx,x,x,o,x,o,o,x,o,positive\\nx,x,x,o,x,o,o,o,x,positive\\nx,x,x,o,x,o,o,b,b,positive\\nx,x,x,o,x,o,b,o,b,positive\\nx,x,x,o,x,o,b,b,o,positive\\nx,x,x,o,x,b,o,o,b,positive\\nx,x,x,o,x,b,o,b,o,positive\\nx,x,x,o,x,b,b,o,o,positive\\nx,x,x,o,o,x,x,o,o,positive\\nx,x,x,o,o,x,o,x,o,positive\\nx,x,x,o,o,x,o,o,x,positive\\nx,x,x,o,o,x,o,b,b,positive\\nx,x,x,o,o,x,b,o,b,positive\\nx,x,x,o,o,x,b,b,o,positive\\nx,x,x,o,o,b,x,o,b,positive\\nx,x,x,o,o,b,x,b,o,positive\\nx,x,x,o,o,b,o,x,b,positive\\nx,x,x,o,o,b,o,b,x,positive\\nx,x,x,o,o,b,b,x,o,positive\\nx,x,x,o,o,b,b,o,x,positive\\nx,x,x,o,o,b,b,b,b,positive\\nx,x,x,o,b,x,o,o,b,positive\\nx,x,x,o,b,x,o,b,o,positive\\nx,x,x,o,b,x,b,o,o,positive\\nx,x,x,o,b,o,x,o,b,positive\\nx,x,x,o,b,o,x,b,o,positive\\nx,x,x,o,b,o,o,x,b,positive\\nx,x,x,o,b,o,o,b,x,positive\\nx,x,x,o,b,o,b,x,o,positive\\nx,x,x,o,b,o,b,o,x,positive\\nx,x,x,o,b,o,b,b,b,positive\\nx,x,x,o,b,b,x,o,o,positive\\nx,x,x,o,b,b,o,x,o,positive\\nx,x,x,o,b,b,o,o,x,positive\\nx,x,x,o,b,b,o,b,b,positive\\nx,x,x,o,b,b,b,o,b,positive\\nx,x,x,o,b,b,b,b,o,positive\\nx,x,x,b,x,o,o,o,b,positive\\nx,x,x,b,x,o,o,b,o,positive\\nx,x,x,b,x,o,b,o,o,positive\\nx,x,x,b,o,x,o,o,b,positive\\nx,x,x,b,o,x,o,b,o,positive\\nx,x,x,b,o,x,b,o,o,positive\\nx,x,x,b,o,o,x,o,b,positive\\nx,x,x,b,o,o,x,b,o,positive\\nx,x,x,b,o,o,o,x,b,positive\\nx,x,x,b,o,o,o,b,x,positive\\nx,x,x,b,o,o,b,x,o,positive\\nx,x,x,b,o,o,b,o,x,positive\\nx,x,x,b,o,o,b,b,b,positive\\nx,x,x,b,o,b,x,o,o,positive\\nx,x,x,b,o,b,o,x,o,positive\\nx,x,x,b,o,b,o,o,x,positive\\nx,x,x,b,o,b,o,b,b,positive\\nx,x,x,b,o,b,b,o,b,positive\\nx,x,x,b,o,b,b,b,o,positive\\nx,x,x,b,b,o,x,o,o,positive\\nx,x,x,b,b,o,o,x,o,positive\\nx,x,x,b,b,o,o,o,x,positive\\nx,x,x,b,b,o,o,b,b,positive\\nx,x,x,b,b,o,b,o,b,positive\\nx,x,x,b,b,o,b,b,o,positive\\nx,x,x,b,b,b,o,o,b,positive\\nx,x,x,b,b,b,o,b,o,positive\\nx,x,x,b,b,b,b,o,o,positive\\nx,x,o,x,x,o,o,o,x,positive\\nx,x,o,x,o,x,x,o,o,positive\\nx,x,o,x,o,o,x,o,x,positive\\nx,x,o,x,o,o,x,b,b,positive\\nx,x,o,x,o,b,x,o,b,positive\\nx,x,o,x,o,b,x,b,o,positive\\nx,x,o,x,b,o,x,o,b,positive\\nx,x,o,x,b,b,x,o,o,positive\\nx,x,o,o,x,x,o,x,o,positive\\nx,x,o,o,x,x,o,o,x,positive\\nx,x,o,o,x,o,x,o,x,positive\\nx,x,o,o,x,o,o,x,x,positive\\nx,x,o,o,x,o,b,x,b,positive\\nx,x,o,o,x,o,b,b,x,positive\\nx,x,o,o,x,b,o,x,b,positive\\nx,x,o,o,x,b,o,b,x,positive\\nx,x,o,o,x,b,b,x,o,positive\\nx,x,o,o,x,b,b,o,x,positive\\nx,x,o,b,x,o,o,x,b,positive\\nx,x,o,b,x,o,o,b,x,positive\\nx,x,o,b,x,o,b,o,x,positive\\nx,x,o,b,x,b,o,x,o,positive\\nx,x,o,b,x,b,o,o,x,positive\\nx,x,b,x,o,o,x,o,b,positive\\nx,x,b,x,o,o,x,b,o,positive\\nx,x,b,x,o,b,x,o,o,positive\\nx,x,b,x,b,o,x,o,o,positive\\nx,x,b,o,x,o,o,x,b,positive\\nx,x,b,o,x,o,o,b,x,positive\\nx,x,b,o,x,o,b,x,o,positive\\nx,x,b,o,x,o,b,o,x,positive\\nx,x,b,o,x,b,o,x,o,positive\\nx,x,b,o,x,b,o,o,x,positive\\nx,x,b,b,x,o,o,x,o,positive\\nx,x,b,b,x,o,o,o,x,positive\\nx,o,x,x,x,o,x,o,o,positive\\nx,o,x,x,x,o,o,o,x,positive\\nx,o,x,x,o,o,x,x,o,positive\\nx,o,x,x,o,o,x,b,b,positive\\nx,o,x,x,o,b,x,b,o,positive\\nx,o,x,x,b,o,x,o,b,positive\\nx,o,x,x,b,o,x,b,o,positive\\nx,o,x,x,b,b,x,o,o,positive\\nx,o,x,o,x,x,x,o,o,positive\\nx,o,x,o,x,x,o,o,x,positive\\nx,o,x,o,x,o,x,x,o,positive\\nx,o,x,o,x,o,x,o,x,positive\\nx,o,x,o,x,o,x,b,b,positive\\nx,o,x,o,x,o,o,x,x,positive\\nx,o,x,o,x,o,b,b,x,positive\\nx,o,x,o,x,b,x,o,b,positive\\nx,o,x,o,x,b,x,b,o,positive\\nx,o,x,o,x,b,o,b,x,positive\\nx,o,x,o,x,b,b,o,x,positive\\nx,o,x,o,o,x,o,x,x,positive\\nx,o,x,o,o,x,b,b,x,positive\\nx,o,x,o,b,x,o,b,x,positive\\nx,o,x,o,b,x,b,o,x,positive\\nx,o,x,b,x,o,x,o,b,positive\\nx,o,x,b,x,o,x,b,o,positive\\nx,o,x,b,x,o,o,b,x,positive\\nx,o,x,b,x,o,b,o,x,positive\\nx,o,x,b,x,b,x,o,o,positive\\nx,o,x,b,x,b,o,o,x,positive\\nx,o,x,b,o,x,o,b,x,positive\\nx,o,x,b,b,x,o,o,x,positive\\nx,o,o,x,x,x,x,o,o,positive\\nx,o,o,x,x,x,o,x,o,positive\\nx,o,o,x,x,x,o,o,x,positive\\nx,o,o,x,x,x,o,b,b,positive\\nx,o,o,x,x,x,b,o,b,positive\\nx,o,o,x,x,x,b,b,o,positive\\nx,o,o,x,x,o,x,o,x,positive\\nx,o,o,x,x,o,x,b,b,positive\\nx,o,o,x,x,o,o,x,x,positive\\nx,o,o,x,x,o,b,b,x,positive\\nx,o,o,x,x,b,x,o,b,positive\\nx,o,o,x,x,b,x,b,o,positive\\nx,o,o,x,x,b,o,b,x,positive\\nx,o,o,x,x,b,b,o,x,positive\\nx,o,o,x,o,x,x,x,o,positive\\nx,o,o,x,o,x,x,b,b,positive\\nx,o,o,x,o,o,x,x,x,positive\\nx,o,o,x,o,b,x,x,b,positive\\nx,o,o,x,o,b,x,b,x,positive\\nx,o,o,x,b,x,x,o,b,positive\\nx,o,o,x,b,x,x,b,o,positive\\nx,o,o,x,b,o,x,x,b,positive\\nx,o,o,x,b,o,x,b,x,positive\\nx,o,o,x,b,b,x,x,o,positive\\nx,o,o,x,b,b,x,o,x,positive\\nx,o,o,x,b,b,x,b,b,positive\\nx,o,o,o,x,x,x,o,x,positive\\nx,o,o,o,x,x,o,x,x,positive\\nx,o,o,o,x,x,b,b,x,positive\\nx,o,o,o,x,o,x,x,x,positive\\nx,o,o,o,x,b,x,b,x,positive\\nx,o,o,o,x,b,b,x,x,positive\\nx,o,o,o,o,x,x,x,x,positive\\nx,o,o,o,b,b,x,x,x,positive\\nx,o,o,b,x,x,o,b,x,positive\\nx,o,o,b,x,x,b,o,x,positive\\nx,o,o,b,x,o,x,b,x,positive\\nx,o,o,b,x,o,b,x,x,positive\\nx,o,o,b,x,b,x,o,x,positive\\nx,o,o,b,x,b,o,x,x,positive\\nx,o,o,b,x,b,b,b,x,positive\\nx,o,o,b,o,b,x,x,x,positive\\nx,o,o,b,b,o,x,x,x,positive\\nx,o,b,x,x,x,o,o,b,positive\\nx,o,b,x,x,x,o,b,o,positive\\nx,o,b,x,x,x,b,o,o,positive\\nx,o,b,x,x,o,x,o,b,positive\\nx,o,b,x,x,o,x,b,o,positive\\nx,o,b,x,x,o,o,b,x,positive\\nx,o,b,x,x,o,b,o,x,positive\\nx,o,b,x,x,b,x,o,o,positive\\nx,o,b,x,x,b,o,o,x,positive\\nx,o,b,x,o,x,x,b,o,positive\\nx,o,b,x,o,o,x,x,b,positive\\nx,o,b,x,o,o,x,b,x,positive\\nx,o,b,x,o,b,x,x,o,positive\\nx,o,b,x,o,b,x,b,b,positive\\nx,o,b,x,b,x,x,o,o,positive\\nx,o,b,x,b,o,x,x,o,positive\\nx,o,b,x,b,o,x,o,x,positive\\nx,o,b,x,b,o,x,b,b,positive\\nx,o,b,x,b,b,x,o,b,positive\\nx,o,b,x,b,b,x,b,o,positive\\nx,o,b,o,x,x,o,b,x,positive\\nx,o,b,o,x,x,b,o,x,positive\\nx,o,b,o,x,o,x,b,x,positive\\nx,o,b,o,x,o,b,x,x,positive\\nx,o,b,o,x,b,x,o,x,positive\\nx,o,b,o,x,b,o,x,x,positive\\nx,o,b,o,x,b,b,b,x,positive\\nx,o,b,o,o,b,x,x,x,positive\\nx,o,b,o,b,o,x,x,x,positive\\nx,o,b,b,x,x,o,o,x,positive\\nx,o,b,b,x,o,x,o,x,positive\\nx,o,b,b,x,o,o,x,x,positive\\nx,o,b,b,x,o,b,b,x,positive\\nx,o,b,b,x,b,o,b,x,positive\\nx,o,b,b,x,b,b,o,x,positive\\nx,o,b,b,o,o,x,x,x,positive\\nx,b,x,x,o,o,x,o,b,positive\\nx,b,x,x,o,o,x,b,o,positive\\nx,b,x,x,o,b,x,o,o,positive\\nx,b,x,x,b,o,x,o,o,positive\\nx,b,x,o,x,o,x,o,b,positive\\nx,b,x,o,x,o,x,b,o,positive\\nx,b,x,o,x,o,o,b,x,positive\\nx,b,x,o,x,o,b,o,x,positive\\nx,b,x,o,x,b,x,o,o,positive\\nx,b,x,o,x,b,o,o,x,positive\\nx,b,x,o,o,x,o,b,x,positive\\nx,b,x,o,o,x,b,o,x,positive\\nx,b,x,o,b,x,o,o,x,positive\\nx,b,x,b,x,o,x,o,o,positive\\nx,b,x,b,x,o,o,o,x,positive\\nx,b,x,b,o,x,o,o,x,positive\\nx,b,o,x,x,x,o,o,b,positive\\nx,b,o,x,x,x,o,b,o,positive\\nx,b,o,x,x,x,b,o,o,positive\\nx,b,o,x,x,o,x,o,b,positive\\nx,b,o,x,x,o,o,b,x,positive\\nx,b,o,x,x,o,b,o,x,positive\\nx,b,o,x,x,b,x,o,o,positive\\nx,b,o,x,x,b,o,o,x,positive\\nx,b,o,x,o,x,x,o,b,positive\\nx,b,o,x,o,x,x,b,o,positive\\nx,b,o,x,o,o,x,x,b,positive\\nx,b,o,x,o,o,x,b,x,positive\\nx,b,o,x,o,b,x,x,o,positive\\nx,b,o,x,o,b,x,o,x,positive\\nx,b,o,x,o,b,x,b,b,positive\\nx,b,o,x,b,x,x,o,o,positive\\nx,b,o,x,b,o,x,o,x,positive\\nx,b,o,x,b,o,x,b,b,positive\\nx,b,o,x,b,b,x,o,b,positive\\nx,b,o,x,b,b,x,b,o,positive\\nx,b,o,o,x,x,o,b,x,positive\\nx,b,o,o,x,x,b,o,x,positive\\nx,b,o,o,x,o,x,b,x,positive\\nx,b,o,o,x,o,b,x,x,positive\\nx,b,o,o,x,b,x,o,x,positive\\nx,b,o,o,x,b,o,x,x,positive\\nx,b,o,o,x,b,b,b,x,positive\\nx,b,o,o,o,b,x,x,x,positive\\nx,b,o,o,b,o,x,x,x,positive\\nx,b,o,b,x,x,o,o,x,positive\\nx,b,o,b,x,o,x,o,x,positive\\nx,b,o,b,x,o,o,x,x,positive\\nx,b,o,b,x,o,b,b,x,positive\\nx,b,o,b,x,b,o,b,x,positive\\nx,b,o,b,x,b,b,o,x,positive\\nx,b,o,b,o,o,x,x,x,positive\\nx,b,b,x,x,o,x,o,o,positive\\nx,b,b,x,x,o,o,o,x,positive\\nx,b,b,x,o,x,x,o,o,positive\\nx,b,b,x,o,o,x,x,o,positive\\nx,b,b,x,o,o,x,o,x,positive\\nx,b,b,x,o,o,x,b,b,positive\\nx,b,b,x,o,b,x,o,b,positive\\nx,b,b,x,o,b,x,b,o,positive\\nx,b,b,x,b,o,x,o,b,positive\\nx,b,b,x,b,o,x,b,o,positive\\nx,b,b,x,b,b,x,o,o,positive\\nx,b,b,o,x,x,o,o,x,positive\\nx,b,b,o,x,o,x,o,x,positive\\nx,b,b,o,x,o,o,x,x,positive\\nx,b,b,o,x,o,b,b,x,positive\\nx,b,b,o,x,b,o,b,x,positive\\nx,b,b,o,x,b,b,o,x,positive\\nx,b,b,b,x,o,o,b,x,positive\\nx,b,b,b,x,o,b,o,x,positive\\nx,b,b,b,x,b,o,o,x,positive\\no,x,x,x,x,o,x,o,o,positive\\no,x,x,x,x,o,o,x,o,positive\\no,x,x,x,o,x,o,o,x,positive\\no,x,x,o,x,x,x,o,o,positive\\no,x,x,o,x,o,x,x,o,positive\\no,x,x,o,x,o,x,o,x,positive\\no,x,x,o,x,o,x,b,b,positive\\no,x,x,o,x,o,b,x,b,positive\\no,x,x,o,x,b,x,o,b,positive\\no,x,x,o,x,b,x,b,o,positive\\no,x,x,o,x,b,b,x,o,positive\\no,x,x,o,o,x,x,o,x,positive\\no,x,x,o,o,x,b,b,x,positive\\no,x,x,o,b,x,b,o,x,positive\\no,x,x,b,x,o,x,o,b,positive\\no,x,x,b,x,o,x,b,o,positive\\no,x,x,b,x,o,o,x,b,positive\\no,x,x,b,x,o,b,x,o,positive\\no,x,x,b,x,b,x,o,o,positive\\no,x,x,b,x,b,o,x,o,positive\\no,x,x,b,o,x,o,b,x,positive\\no,x,x,b,o,x,b,o,x,positive\\no,x,x,b,b,x,o,o,x,positive\\no,x,o,x,x,x,x,o,o,positive\\no,x,o,x,x,x,o,x,o,positive\\no,x,o,x,x,x,o,o,x,positive\\no,x,o,x,x,x,o,b,b,positive\\no,x,o,x,x,x,b,o,b,positive\\no,x,o,x,x,x,b,b,o,positive\\no,x,o,x,x,o,o,x,x,positive\\no,x,o,x,x,o,b,x,b,positive\\no,x,o,x,x,b,o,x,b,positive\\no,x,o,x,x,b,b,x,o,positive\\no,x,o,x,o,o,x,x,x,positive\\no,x,o,o,x,x,x,x,o,positive\\no,x,o,o,x,x,b,x,b,positive\\no,x,o,o,x,o,x,x,x,positive\\no,x,o,o,x,b,x,x,b,positive\\no,x,o,o,x,b,b,x,x,positive\\no,x,o,o,o,x,x,x,x,positive\\no,x,o,o,b,b,x,x,x,positive\\no,x,o,b,x,x,o,x,b,positive\\no,x,o,b,x,x,b,x,o,positive\\no,x,o,b,x,o,x,x,b,positive\\no,x,o,b,x,o,b,x,x,positive\\no,x,o,b,x,b,x,x,o,positive\\no,x,o,b,x,b,o,x,x,positive\\no,x,o,b,x,b,b,x,b,positive\\no,x,o,b,o,b,x,x,x,positive\\no,x,o,b,b,o,x,x,x,positive\\no,x,b,x,x,x,o,o,b,positive\\no,x,b,x,x,x,o,b,o,positive\\no,x,b,x,x,x,b,o,o,positive\\no,x,b,x,x,o,o,x,b,positive\\no,x,b,x,x,o,b,x,o,positive\\no,x,b,x,x,b,o,x,o,positive\\no,x,b,o,x,x,b,x,o,positive\\no,x,b,o,x,o,x,x,b,positive\\no,x,b,o,x,o,b,x,x,positive\\no,x,b,o,x,b,x,x,o,positive\\no,x,b,o,x,b,b,x,b,positive\\no,x,b,o,o,b,x,x,x,positive\\no,x,b,o,b,o,x,x,x,positive\\no,x,b,b,x,x,o,x,o,positive\\no,x,b,b,x,o,x,x,o,positive\\no,x,b,b,x,o,o,x,x,positive\\no,x,b,b,x,o,b,x,b,positive\\no,x,b,b,x,b,o,x,b,positive\\no,x,b,b,x,b,b,x,o,positive\\no,x,b,b,o,o,x,x,x,positive\\no,o,x,x,x,x,x,o,o,positive\\no,o,x,x,x,x,o,x,o,positive\\no,o,x,x,x,x,o,o,x,positive\\no,o,x,x,x,x,o,b,b,positive\\no,o,x,x,x,x,b,o,b,positive\\no,o,x,x,x,x,b,b,o,positive\\no,o,x,x,x,o,x,x,o,positive\\no,o,x,x,x,o,x,o,x,positive\\no,o,x,x,x,o,x,b,b,positive\\no,o,x,x,x,b,x,o,b,positive\\no,o,x,x,x,b,x,b,o,positive\\no,o,x,x,o,x,o,x,x,positive\\no,o,x,x,o,x,b,b,x,positive\\no,o,x,x,o,o,x,x,x,positive\\no,o,x,x,b,x,o,b,x,positive\\no,o,x,x,b,x,b,o,x,positive\\no,o,x,o,x,x,x,x,o,positive\\no,o,x,o,x,x,x,o,x,positive\\no,o,x,o,x,x,x,b,b,positive\\no,o,x,o,x,x,b,b,x,positive\\no,o,x,o,x,o,x,x,x,positive\\no,o,x,o,x,b,x,x,b,positive\\no,o,x,o,x,b,x,b,x,positive\\no,o,x,o,o,x,x,x,x,positive\\no,o,x,o,b,x,x,b,x,positive\\no,o,x,o,b,x,b,x,x,positive\\no,o,x,o,b,b,x,x,x,positive\\no,o,x,b,x,x,x,o,b,positive\\no,o,x,b,x,x,x,b,o,positive\\no,o,x,b,x,x,o,b,x,positive\\no,o,x,b,x,x,b,o,x,positive\\no,o,x,b,x,o,x,x,b,positive\\no,o,x,b,x,o,x,b,x,positive\\no,o,x,b,x,b,x,x,o,positive\\no,o,x,b,x,b,x,o,x,positive\\no,o,x,b,x,b,x,b,b,positive\\no,o,x,b,o,x,x,b,x,positive\\no,o,x,b,o,x,b,x,x,positive\\no,o,x,b,o,b,x,x,x,positive\\no,o,x,b,b,x,x,o,x,positive\\no,o,x,b,b,x,o,x,x,positive\\no,o,x,b,b,x,b,b,x,positive\\no,o,x,b,b,o,x,x,x,positive\\no,o,b,x,x,x,x,o,b,positive\\no,o,b,x,x,x,x,b,o,positive\\no,o,b,x,x,x,o,x,b,positive\\no,o,b,x,x,x,o,b,x,positive\\no,o,b,x,x,x,b,x,o,positive\\no,o,b,x,x,x,b,o,x,positive\\no,o,b,x,x,x,b,b,b,positive\\no,o,b,x,o,b,x,x,x,positive\\no,o,b,x,b,o,x,x,x,positive\\no,o,b,o,x,b,x,x,x,positive\\no,o,b,o,b,x,x,x,x,positive\\no,o,b,b,x,o,x,x,x,positive\\no,o,b,b,o,x,x,x,x,positive\\no,o,b,b,b,b,x,x,x,positive\\no,b,x,x,x,x,o,o,b,positive\\no,b,x,x,x,x,o,b,o,positive\\no,b,x,x,x,x,b,o,o,positive\\no,b,x,x,x,o,x,o,b,positive\\no,b,x,x,x,o,x,b,o,positive\\no,b,x,x,x,b,x,o,o,positive\\no,b,x,x,o,x,o,b,x,positive\\no,b,x,x,o,x,b,o,x,positive\\no,b,x,x,b,x,o,o,x,positive\\no,b,x,o,x,x,x,o,b,positive\\no,b,x,o,x,x,x,b,o,positive\\no,b,x,o,x,x,b,o,x,positive\\no,b,x,o,x,o,x,x,b,positive\\no,b,x,o,x,o,x,b,x,positive\\no,b,x,o,x,b,x,x,o,positive\\no,b,x,o,x,b,x,o,x,positive\\no,b,x,o,x,b,x,b,b,positive\\no,b,x,o,o,x,x,b,x,positive\\no,b,x,o,o,x,b,x,x,positive\\no,b,x,o,o,b,x,x,x,positive\\no,b,x,o,b,x,x,o,x,positive\\no,b,x,o,b,x,b,b,x,positive\\no,b,x,o,b,o,x,x,x,positive\\no,b,x,b,x,x,x,o,o,positive\\no,b,x,b,x,x,o,o,x,positive\\no,b,x,b,x,o,x,x,o,positive\\no,b,x,b,x,o,x,o,x,positive\\no,b,x,b,x,o,x,b,b,positive\\no,b,x,b,x,b,x,o,b,positive\\no,b,x,b,x,b,x,b,o,positive\\no,b,x,b,o,x,x,o,x,positive\\no,b,x,b,o,x,o,x,x,positive\\no,b,x,b,o,x,b,b,x,positive\\no,b,x,b,o,o,x,x,x,positive\\no,b,x,b,b,x,o,b,x,positive\\no,b,x,b,b,x,b,o,x,positive\\no,b,o,x,x,x,x,o,b,positive\\no,b,o,x,x,x,x,b,o,positive\\no,b,o,x,x,x,o,x,b,positive\\no,b,o,x,x,x,o,b,x,positive\\no,b,o,x,x,x,b,x,o,positive\\no,b,o,x,x,x,b,o,x,positive\\no,b,o,x,x,x,b,b,b,positive\\no,b,o,x,o,b,x,x,x,positive\\no,b,o,x,b,o,x,x,x,positive\\no,b,o,o,x,b,x,x,x,positive\\no,b,o,o,b,x,x,x,x,positive\\no,b,o,b,x,o,x,x,x,positive\\no,b,o,b,o,x,x,x,x,positive\\no,b,o,b,b,b,x,x,x,positive\\no,b,b,x,x,x,x,o,o,positive\\no,b,b,x,x,x,o,x,o,positive\\no,b,b,x,x,x,o,o,x,positive\\no,b,b,x,x,x,o,b,b,positive\\no,b,b,x,x,x,b,o,b,positive\\no,b,b,x,x,x,b,b,o,positive\\no,b,b,x,o,o,x,x,x,positive\\no,b,b,o,x,o,x,x,x,positive\\no,b,b,o,o,x,x,x,x,positive\\no,b,b,o,b,b,x,x,x,positive\\no,b,b,b,o,b,x,x,x,positive\\no,b,b,b,b,o,x,x,x,positive\\nb,x,x,o,x,o,x,o,b,positive\\nb,x,x,o,x,o,x,b,o,positive\\nb,x,x,o,x,o,o,x,b,positive\\nb,x,x,o,x,o,b,x,o,positive\\nb,x,x,o,x,b,x,o,o,positive\\nb,x,x,o,x,b,o,x,o,positive\\nb,x,x,o,o,x,o,b,x,positive\\nb,x,x,o,o,x,b,o,x,positive\\nb,x,x,o,b,x,o,o,x,positive\\nb,x,x,b,x,o,x,o,o,positive\\nb,x,x,b,x,o,o,x,o,positive\\nb,x,x,b,o,x,o,o,x,positive\\nb,x,o,x,x,x,o,o,b,positive\\nb,x,o,x,x,x,o,b,o,positive\\nb,x,o,x,x,x,b,o,o,positive\\nb,x,o,x,x,o,o,x,b,positive\\nb,x,o,x,x,b,o,x,o,positive\\nb,x,o,o,x,x,o,x,b,positive\\nb,x,o,o,x,x,b,x,o,positive\\nb,x,o,o,x,o,x,x,b,positive\\nb,x,o,o,x,o,b,x,x,positive\\nb,x,o,o,x,b,x,x,o,positive\\nb,x,o,o,x,b,o,x,x,positive\\nb,x,o,o,x,b,b,x,b,positive\\nb,x,o,o,o,b,x,x,x,positive\\nb,x,o,o,b,o,x,x,x,positive\\nb,x,o,b,x,x,o,x,o,positive\\nb,x,o,b,x,o,o,x,x,positive\\nb,x,o,b,x,o,b,x,b,positive\\nb,x,o,b,x,b,o,x,b,positive\\nb,x,o,b,x,b,b,x,o,positive\\nb,x,o,b,o,o,x,x,x,positive\\nb,x,b,x,x,o,o,x,o,positive\\nb,x,b,o,x,x,o,x,o,positive\\nb,x,b,o,x,o,x,x,o,positive\\nb,x,b,o,x,o,o,x,x,positive\\nb,x,b,o,x,o,b,x,b,positive\\nb,x,b,o,x,b,o,x,b,positive\\nb,x,b,o,x,b,b,x,o,positive\\nb,x,b,b,x,o,o,x,b,positive\\nb,x,b,b,x,o,b,x,o,positive\\nb,x,b,b,x,b,o,x,o,positive\\nb,o,x,x,x,x,o,o,b,positive\\nb,o,x,x,x,x,o,b,o,positive\\nb,o,x,x,x,x,b,o,o,positive\\nb,o,x,x,x,o,x,o,b,positive\\nb,o,x,x,x,o,x,b,o,positive\\nb,o,x,x,x,b,x,o,o,positive\\nb,o,x,x,o,x,o,b,x,positive\\nb,o,x,x,b,x,o,o,x,positive\\nb,o,x,o,x,x,x,o,b,positive\\nb,o,x,o,x,x,x,b,o,positive\\nb,o,x,o,x,x,o,b,x,positive\\nb,o,x,o,x,x,b,o,x,positive\\nb,o,x,o,x,o,x,x,b,positive\\nb,o,x,o,x,o,x,b,x,positive\\nb,o,x,o,x,b,x,x,o,positive\\nb,o,x,o,x,b,x,o,x,positive\\nb,o,x,o,x,b,x,b,b,positive\\nb,o,x,o,o,x,x,b,x,positive\\nb,o,x,o,o,x,b,x,x,positive\\nb,o,x,o,o,b,x,x,x,positive\\nb,o,x,o,b,x,x,o,x,positive\\nb,o,x,o,b,x,o,x,x,positive\\nb,o,x,o,b,x,b,b,x,positive\\nb,o,x,o,b,o,x,x,x,positive\\nb,o,x,b,x,x,x,o,o,positive\\nb,o,x,b,x,x,o,o,x,positive\\nb,o,x,b,x,o,x,x,o,positive\\nb,o,x,b,x,o,x,o,x,positive\\nb,o,x,b,x,o,x,b,b,positive\\nb,o,x,b,x,b,x,o,b,positive\\nb,o,x,b,x,b,x,b,o,positive\\nb,o,x,b,o,x,o,x,x,positive\\nb,o,x,b,o,x,b,b,x,positive\\nb,o,x,b,o,o,x,x,x,positive\\nb,o,x,b,b,x,o,b,x,positive\\nb,o,x,b,b,x,b,o,x,positive\\nb,o,o,x,x,x,x,o,b,positive\\nb,o,o,x,x,x,x,b,o,positive\\nb,o,o,x,x,x,o,x,b,positive\\nb,o,o,x,x,x,o,b,x,positive\\nb,o,o,x,x,x,b,x,o,positive\\nb,o,o,x,x,x,b,o,x,positive\\nb,o,o,x,x,x,b,b,b,positive\\nb,o,o,x,o,b,x,x,x,positive\\nb,o,o,x,b,o,x,x,x,positive\\nb,o,o,o,x,b,x,x,x,positive\\nb,o,o,o,b,x,x,x,x,positive\\nb,o,o,b,x,o,x,x,x,positive\\nb,o,o,b,o,x,x,x,x,positive\\nb,o,o,b,b,b,x,x,x,positive\\nb,o,b,x,x,x,x,o,o,positive\\nb,o,b,x,x,x,o,x,o,positive\\nb,o,b,x,x,x,o,o,x,positive\\nb,o,b,x,x,x,o,b,b,positive\\nb,o,b,x,x,x,b,o,b,positive\\nb,o,b,x,x,x,b,b,o,positive\\nb,o,b,x,o,o,x,x,x,positive\\nb,o,b,o,x,o,x,x,x,positive\\nb,o,b,o,o,x,x,x,x,positive\\nb,o,b,o,b,b,x,x,x,positive\\nb,o,b,b,o,b,x,x,x,positive\\nb,o,b,b,b,o,x,x,x,positive\\nb,b,x,x,x,o,x,o,o,positive\\nb,b,x,x,o,x,o,o,x,positive\\nb,b,x,o,x,x,x,o,o,positive\\nb,b,x,o,x,x,o,o,x,positive\\nb,b,x,o,x,o,x,x,o,positive\\nb,b,x,o,x,o,x,o,x,positive\\nb,b,x,o,x,o,x,b,b,positive\\nb,b,x,o,x,b,x,o,b,positive\\nb,b,x,o,x,b,x,b,o,positive\\nb,b,x,o,o,x,x,o,x,positive\\nb,b,x,o,o,x,o,x,x,positive\\nb,b,x,o,o,x,b,b,x,positive\\nb,b,x,o,b,x,o,b,x,positive\\nb,b,x,o,b,x,b,o,x,positive\\nb,b,x,b,x,o,x,o,b,positive\\nb,b,x,b,x,o,x,b,o,positive\\nb,b,x,b,x,b,x,o,o,positive\\nb,b,x,b,o,x,o,b,x,positive\\nb,b,x,b,o,x,b,o,x,positive\\nb,b,x,b,b,x,o,o,x,positive\\nb,b,o,x,x,x,x,o,o,positive\\nb,b,o,x,x,x,o,x,o,positive\\nb,b,o,x,x,x,o,o,x,positive\\nb,b,o,x,x,x,o,b,b,positive\\nb,b,o,x,x,x,b,o,b,positive\\nb,b,o,x,x,x,b,b,o,positive\\nb,b,o,x,o,o,x,x,x,positive\\nb,b,o,o,x,o,x,x,x,positive\\nb,b,o,o,o,x,x,x,x,positive\\nb,b,o,o,b,b,x,x,x,positive\\nb,b,o,b,o,b,x,x,x,positive\\nb,b,o,b,b,o,x,x,x,positive\\nb,b,b,x,x,x,o,o,b,positive\\nb,b,b,x,x,x,o,b,o,positive\\nb,b,b,x,x,x,b,o,o,positive\\nb,b,b,o,o,b,x,x,x,positive\\nb,b,b,o,b,o,x,x,x,positive\\nb,b,b,b,o,o,x,x,x,positive\\nx,x,o,x,x,o,o,b,o,negative\\nx,x,o,x,x,o,b,o,o,negative\\nx,x,o,x,x,b,o,o,o,negative\\nx,x,o,x,o,x,o,o,b,negative\\nx,x,o,x,o,x,o,b,o,negative\\nx,x,o,x,o,o,o,x,b,negative\\nx,x,o,x,o,o,o,b,x,negative\\nx,x,o,x,o,o,b,x,o,negative\\nx,x,o,x,o,b,o,x,o,negative\\nx,x,o,x,o,b,o,o,x,negative\\nx,x,o,x,o,b,o,b,b,negative\\nx,x,o,x,b,x,o,o,o,negative\\nx,x,o,x,b,o,o,x,o,negative\\nx,x,o,x,b,o,b,b,o,negative\\nx,x,o,o,x,o,x,b,o,negative\\nx,x,o,o,o,x,o,x,b,negative\\nx,x,o,o,o,x,o,b,x,negative\\nx,x,o,o,o,o,x,x,b,negative\\nx,x,o,o,o,o,x,b,x,negative\\nx,x,o,o,o,o,b,x,x,negative\\nx,x,o,o,o,b,o,x,x,negative\\nx,x,o,o,b,o,x,x,o,negative\\nx,x,o,b,x,x,o,o,o,negative\\nx,x,o,b,x,o,x,o,o,negative\\nx,x,o,b,x,o,b,b,o,negative\\nx,x,o,b,o,x,o,x,o,negative\\nx,x,o,b,o,x,o,o,x,negative\\nx,x,o,b,o,x,o,b,b,negative\\nx,x,o,b,o,o,x,x,o,negative\\nx,x,o,b,o,o,o,x,x,negative\\nx,x,o,b,o,b,o,x,b,negative\\nx,x,o,b,o,b,o,b,x,negative\\nx,x,o,b,b,o,x,b,o,negative\\nx,x,o,b,b,o,b,x,o,negative\\nx,x,b,x,x,o,o,o,o,negative\\nx,x,b,x,o,x,o,o,o,negative\\nx,x,b,x,b,b,o,o,o,negative\\nx,x,b,o,x,x,o,o,o,negative\\nx,x,b,o,o,o,x,x,o,negative\\nx,x,b,o,o,o,x,o,x,negative\\nx,x,b,o,o,o,x,b,b,negative\\nx,x,b,o,o,o,o,x,x,negative\\nx,x,b,o,o,o,b,x,b,negative\\nx,x,b,o,o,o,b,b,x,negative\\nx,x,b,b,x,b,o,o,o,negative\\nx,x,b,b,b,x,o,o,o,negative\\nx,o,x,x,x,b,o,o,o,negative\\nx,o,x,x,o,x,o,o,b,negative\\nx,o,x,x,o,x,b,o,o,negative\\nx,o,x,x,o,o,b,o,x,negative\\nx,o,x,x,o,b,o,o,x,negative\\nx,o,x,x,o,b,b,o,b,negative\\nx,o,x,x,b,x,o,o,o,negative\\nx,o,x,o,o,x,x,o,b,negative\\nx,o,x,o,o,o,x,x,b,negative\\nx,o,x,o,o,o,x,b,x,negative\\nx,o,x,o,o,o,b,x,x,negative\\nx,o,x,o,o,b,x,o,x,negative\\nx,o,x,b,x,x,o,o,o,negative\\nx,o,x,b,o,x,x,o,o,negative\\nx,o,x,b,o,x,b,o,b,negative\\nx,o,x,b,o,o,x,o,x,negative\\nx,o,x,b,o,b,x,o,b,negative\\nx,o,x,b,o,b,b,o,x,negative\\nx,o,o,x,x,o,b,x,o,negative\\nx,o,o,x,o,x,o,x,b,negative\\nx,o,o,x,o,x,o,b,x,negative\\nx,o,o,x,o,x,b,o,x,negative\\nx,o,o,x,o,b,o,x,x,negative\\nx,o,o,b,x,o,x,x,o,negative\\nx,o,o,b,o,x,x,o,x,negative\\nx,o,o,b,o,x,o,x,x,negative\\nx,o,b,x,o,x,o,o,x,negative\\nx,o,b,x,o,x,b,o,b,negative\\nx,o,b,x,o,b,b,o,x,negative\\nx,o,b,o,o,x,x,o,x,negative\\nx,o,b,b,o,x,x,o,b,negative\\nx,o,b,b,o,x,b,o,x,negative\\nx,o,b,b,o,b,x,o,x,negative\\nx,b,x,x,x,o,o,o,o,negative\\nx,b,x,x,o,x,o,o,o,negative\\nx,b,x,x,b,b,o,o,o,negative\\nx,b,x,o,x,x,o,o,o,negative\\nx,b,x,o,o,o,x,x,o,negative\\nx,b,x,o,o,o,x,o,x,negative\\nx,b,x,o,o,o,x,b,b,negative\\nx,b,x,o,o,o,o,x,x,negative\\nx,b,x,o,o,o,b,x,b,negative\\nx,b,x,o,o,o,b,b,x,negative\\nx,b,x,b,x,b,o,o,o,negative\\nx,b,x,b,b,x,o,o,o,negative\\nx,b,o,x,x,o,o,x,o,negative\\nx,b,o,x,x,o,b,b,o,negative\\nx,b,o,x,o,x,o,x,o,negative\\nx,b,o,x,o,x,o,o,x,negative\\nx,b,o,x,o,x,o,b,b,negative\\nx,b,o,x,o,o,o,x,x,negative\\nx,b,o,x,o,b,o,x,b,negative\\nx,b,o,x,o,b,o,b,x,negative\\nx,b,o,x,b,o,b,x,o,negative\\nx,b,o,o,x,o,x,x,o,negative\\nx,b,o,o,o,x,o,x,x,negative\\nx,b,o,b,x,o,x,b,o,negative\\nx,b,o,b,x,o,b,x,o,negative\\nx,b,o,b,o,x,o,x,b,negative\\nx,b,o,b,o,x,o,b,x,negative\\nx,b,o,b,o,b,o,x,x,negative\\nx,b,o,b,b,o,x,x,o,negative\\nx,b,b,x,x,b,o,o,o,negative\\nx,b,b,x,b,x,o,o,o,negative\\nx,b,b,o,o,o,x,x,b,negative\\nx,b,b,o,o,o,x,b,x,negative\\nx,b,b,o,o,o,b,x,x,negative\\nx,b,b,b,x,x,o,o,o,negative\\no,x,x,x,x,b,o,o,o,negative\\no,x,x,x,o,x,o,b,o,negative\\no,x,x,x,o,x,b,o,o,negative\\no,x,x,x,o,o,x,b,o,negative\\no,x,x,x,o,o,b,x,o,negative\\no,x,x,x,o,b,x,o,o,negative\\no,x,x,x,o,b,o,x,o,negative\\no,x,x,x,o,b,b,b,o,negative\\no,x,x,x,b,x,o,o,o,negative\\no,x,x,o,x,x,o,o,b,negative\\no,x,x,o,x,x,o,b,o,negative\\no,x,x,o,x,o,o,b,x,negative\\no,x,x,o,x,b,o,o,x,negative\\no,x,x,o,x,b,o,b,b,negative\\no,x,x,o,o,x,x,b,o,negative\\no,x,x,o,o,x,o,x,b,negative\\no,x,x,o,o,x,b,x,o,negative\\no,x,x,o,o,o,x,x,b,negative\\no,x,x,o,o,o,x,b,x,negative\\no,x,x,o,o,o,b,x,x,negative\\no,x,x,o,o,b,x,x,o,negative\\no,x,x,o,o,b,o,x,x,negative\\no,x,x,o,b,x,o,x,o,negative\\no,x,x,o,b,x,o,b,b,negative\\no,x,x,o,b,o,o,x,x,negative\\no,x,x,o,b,b,o,x,b,negative\\no,x,x,o,b,b,o,b,x,negative\\no,x,x,b,x,x,o,o,o,negative\\no,x,x,b,o,x,x,o,o,negative\\no,x,x,b,o,x,o,x,o,negative\\no,x,x,b,o,x,b,b,o,negative\\no,x,x,b,o,o,x,x,o,negative\\no,x,x,b,o,b,x,b,o,negative\\no,x,x,b,o,b,b,x,o,negative\\no,x,o,x,x,o,x,b,o,negative\\no,x,o,x,o,x,x,b,o,negative\\no,x,o,x,o,x,o,x,b,negative\\no,x,o,x,o,x,o,b,x,negative\\no,x,o,x,o,x,b,x,o,negative\\no,x,o,x,o,b,x,x,o,negative\\no,x,o,x,o,b,o,x,x,negative\\no,x,o,x,b,o,x,x,o,negative\\no,x,o,o,x,x,o,b,x,negative\\no,x,o,o,b,x,o,x,x,negative\\no,x,o,b,o,x,x,x,o,negative\\no,x,o,b,o,x,o,x,x,negative\\no,x,b,x,o,x,x,o,o,negative\\no,x,b,x,o,x,o,x,o,negative\\no,x,b,x,o,x,b,b,o,negative\\no,x,b,x,o,o,x,x,o,negative\\no,x,b,x,o,b,x,b,o,negative\\no,x,b,x,o,b,b,x,o,negative\\no,x,b,o,x,x,o,o,x,negative\\no,x,b,o,x,x,o,b,b,negative\\no,x,b,o,x,b,o,b,x,negative\\no,x,b,o,o,x,x,x,o,negative\\no,x,b,o,o,x,o,x,x,negative\\no,x,b,o,b,x,o,x,b,negative\\no,x,b,o,b,x,o,b,x,negative\\no,x,b,o,b,b,o,x,x,negative\\no,x,b,b,o,x,x,b,o,negative\\no,x,b,b,o,x,b,x,o,negative\\no,x,b,b,o,b,x,x,o,negative\\no,o,x,x,o,x,x,o,b,negative\\no,o,x,x,o,x,x,b,o,negative\\no,o,x,x,o,x,b,x,o,negative\\no,o,x,x,o,b,x,x,o,negative\\no,o,x,x,o,b,x,o,x,negative\\no,o,x,o,x,x,o,x,b,negative\\no,o,x,o,x,b,o,x,x,negative\\no,o,x,b,o,x,x,x,o,negative\\no,o,o,x,x,o,x,x,b,negative\\no,o,o,x,x,o,x,b,x,negative\\no,o,o,x,x,o,b,x,x,negative\\no,o,o,x,x,b,x,x,o,negative\\no,o,o,x,x,b,x,o,x,negative\\no,o,o,x,x,b,x,b,b,negative\\no,o,o,x,x,b,o,x,x,negative\\no,o,o,x,x,b,b,x,b,negative\\no,o,o,x,x,b,b,b,x,negative\\no,o,o,x,o,x,x,x,b,negative\\no,o,o,x,o,x,x,b,x,negative\\no,o,o,x,o,x,b,x,x,negative\\no,o,o,x,b,x,x,x,o,negative\\no,o,o,x,b,x,x,o,x,negative\\no,o,o,x,b,x,x,b,b,negative\\no,o,o,x,b,x,o,x,x,negative\\no,o,o,x,b,x,b,x,b,negative\\no,o,o,x,b,x,b,b,x,negative\\no,o,o,x,b,b,x,x,b,negative\\no,o,o,x,b,b,x,b,x,negative\\no,o,o,x,b,b,b,x,x,negative\\no,o,o,o,x,x,x,x,b,negative\\no,o,o,o,x,x,x,b,x,negative\\no,o,o,o,x,x,b,x,x,negative\\no,o,o,b,x,x,x,x,o,negative\\no,o,o,b,x,x,x,o,x,negative\\no,o,o,b,x,x,x,b,b,negative\\no,o,o,b,x,x,o,x,x,negative\\no,o,o,b,x,x,b,x,b,negative\\no,o,o,b,x,x,b,b,x,negative\\no,o,o,b,x,b,x,x,b,negative\\no,o,o,b,x,b,x,b,x,negative\\no,o,o,b,x,b,b,x,x,negative\\no,o,o,b,b,x,x,x,b,negative\\no,o,o,b,b,x,x,b,x,negative\\no,o,o,b,b,x,b,x,x,negative\\no,o,b,x,o,x,x,x,o,negative\\no,o,b,x,o,x,x,o,x,negative\\no,o,b,o,x,x,o,x,x,negative\\no,b,x,x,o,x,x,o,o,negative\\no,b,x,x,o,x,o,x,o,negative\\no,b,x,x,o,x,b,b,o,negative\\no,b,x,x,o,o,x,x,o,negative\\no,b,x,x,o,b,x,b,o,negative\\no,b,x,x,o,b,b,x,o,negative\\no,b,x,o,x,x,o,x,o,negative\\no,b,x,o,x,x,o,b,b,negative\\no,b,x,o,x,o,o,x,x,negative\\no,b,x,o,x,b,o,x,b,negative\\no,b,x,o,x,b,o,b,x,negative\\no,b,x,o,o,x,x,x,o,negative\\no,b,x,o,b,x,o,x,b,negative\\no,b,x,o,b,b,o,x,x,negative\\no,b,x,b,o,x,x,b,o,negative\\no,b,x,b,o,x,b,x,o,negative\\no,b,x,b,o,b,x,x,o,negative\\no,b,o,x,x,o,x,x,o,negative\\no,b,o,x,o,x,x,x,o,negative\\no,b,o,x,o,x,o,x,x,negative\\no,b,o,o,x,x,o,x,x,negative\\no,b,b,x,o,x,x,b,o,negative\\no,b,b,x,o,x,b,x,o,negative\\no,b,b,x,o,b,x,x,o,negative\\no,b,b,o,x,x,o,x,b,negative\\no,b,b,o,x,x,o,b,x,negative\\no,b,b,o,x,b,o,x,x,negative\\no,b,b,o,b,x,o,x,x,negative\\no,b,b,b,o,x,x,x,o,negative\\nb,x,x,x,x,o,o,o,o,negative\\nb,x,x,x,o,x,o,o,o,negative\\nb,x,x,x,b,b,o,o,o,negative\\nb,x,x,o,x,x,o,o,o,negative\\nb,x,x,o,o,o,x,x,o,negative\\nb,x,x,o,o,o,x,o,x,negative\\nb,x,x,o,o,o,x,b,b,negative\\nb,x,x,o,o,o,o,x,x,negative\\nb,x,x,o,o,o,b,x,b,negative\\nb,x,x,o,o,o,b,b,x,negative\\nb,x,x,b,x,b,o,o,o,negative\\nb,x,x,b,b,x,o,o,o,negative\\nb,x,o,x,x,o,x,o,o,negative\\nb,x,o,x,x,o,b,b,o,negative\\nb,x,o,x,o,x,o,x,o,negative\\nb,x,o,x,o,x,o,o,x,negative\\nb,x,o,x,o,x,o,b,b,negative\\nb,x,o,x,o,o,x,x,o,negative\\nb,x,o,x,o,o,o,x,x,negative\\nb,x,o,x,o,b,o,x,b,negative\\nb,x,o,x,o,b,o,b,x,negative\\nb,x,o,x,b,o,x,b,o,negative\\nb,x,o,x,b,o,b,x,o,negative\\nb,x,o,o,o,x,o,x,x,negative\\nb,x,o,b,x,o,x,b,o,negative\\nb,x,o,b,o,x,o,x,b,negative\\nb,x,o,b,o,x,o,b,x,negative\\nb,x,o,b,o,b,o,x,x,negative\\nb,x,o,b,b,o,x,x,o,negative\\nb,x,b,x,x,b,o,o,o,negative\\nb,x,b,x,b,x,o,o,o,negative\\nb,x,b,o,o,o,x,x,b,negative\\nb,x,b,o,o,o,x,b,x,negative\\nb,x,b,o,o,o,b,x,x,negative\\nb,x,b,b,x,x,o,o,o,negative\\nb,o,x,x,o,x,x,o,o,negative\\nb,o,x,x,o,x,b,o,b,negative\\nb,o,x,x,o,o,x,o,x,negative\\nb,o,x,x,o,b,x,o,b,negative\\nb,o,x,x,o,b,b,o,x,negative\\nb,o,x,b,o,x,x,o,b,negative\\nb,o,x,b,o,b,x,o,x,negative\\nb,o,o,x,x,o,x,x,o,negative\\nb,o,o,x,o,x,x,o,x,negative\\nb,o,o,x,o,x,o,x,x,negative\\nb,o,b,x,o,x,x,o,b,negative\\nb,o,b,x,o,x,b,o,x,negative\\nb,o,b,x,o,b,x,o,x,negative\\nb,o,b,b,o,x,x,o,x,negative\\nb,b,x,x,x,b,o,o,o,negative\\nb,b,x,x,b,x,o,o,o,negative\\nb,b,x,o,o,o,x,x,b,negative\\nb,b,x,o,o,o,x,b,x,negative\\nb,b,x,o,o,o,b,x,x,negative\\nb,b,x,b,x,x,o,o,o,negative\\nb,b,o,x,x,o,x,b,o,negative\\nb,b,o,x,x,o,b,x,o,negative\\nb,b,o,x,o,x,o,x,b,negative\\nb,b,o,x,o,x,o,b,x,negative\\nb,b,o,x,o,b,o,x,x,negative\\nb,b,o,x,b,o,x,x,o,negative\\nb,b,o,b,x,o,x,x,o,negative\\nb,b,o,b,o,x,o,x,x,negative\\nx,x,o,o,x,x,x,o,o,negative\\nx,x,o,o,o,x,x,x,o,negative\\nx,x,o,o,o,x,x,o,x,negative\\nx,o,x,x,x,o,o,x,o,negative\\nx,o,x,x,o,x,o,x,o,negative\\nx,o,x,x,o,o,o,x,x,negative\\nx,o,x,o,x,x,o,x,o,negative\\nx,o,x,o,o,x,x,x,o,negative\\nx,o,o,o,x,x,x,x,o,negative\\no,x,x,x,x,o,o,o,x,negative\\no,x,x,x,o,o,x,o,x,negative\\no,x,x,x,o,o,o,x,x,negative\\no,x,o,x,x,o,x,o,x,negative\\no,x,o,x,o,x,x,o,x,negative\\no,x,o,o,x,x,x,o,x,negative\\no,o,x,x,x,o,o,x,x,negative\\n'}"
            ]
          },
          "metadata": {},
          "execution_count": 1
        }
      ]
    },
    {
      "cell_type": "code",
      "metadata": {
        "id": "rQ2FL1ydXptk"
      },
      "source": [
        "import numpy as np\n",
        "import pandas as pd\n",
        "\n",
        "from sklearn.preprocessing import LabelEncoder, StandardScaler\n",
        "from sklearn.model_selection import train_test_split\n",
        "from sklearn.svm import SVC\n",
        "from sklearn.metrics import accuracy_score"
      ],
      "execution_count": 2,
      "outputs": []
    },
    {
      "cell_type": "code",
      "metadata": {
        "colab": {
          "base_uri": "https://localhost:8080/",
          "height": 223
        },
        "id": "bnZkyVZ0Xs4N",
        "outputId": "e0d92d1f-b4a5-4987-9a14-a0530a48944c"
      },
      "source": [
        "df = pd.read_csv(\"tic-tac-toe.csv\")\n",
        "df.head()"
      ],
      "execution_count": 3,
      "outputs": [
        {
          "output_type": "execute_result",
          "data": {
            "text/html": [
              "<div>\n",
              "<style scoped>\n",
              "    .dataframe tbody tr th:only-of-type {\n",
              "        vertical-align: middle;\n",
              "    }\n",
              "\n",
              "    .dataframe tbody tr th {\n",
              "        vertical-align: top;\n",
              "    }\n",
              "\n",
              "    .dataframe thead th {\n",
              "        text-align: right;\n",
              "    }\n",
              "</style>\n",
              "<table border=\"1\" class=\"dataframe\">\n",
              "  <thead>\n",
              "    <tr style=\"text-align: right;\">\n",
              "      <th></th>\n",
              "      <th>top-left-square</th>\n",
              "      <th>top-middle-square</th>\n",
              "      <th>top-right-square</th>\n",
              "      <th>middle-left-square</th>\n",
              "      <th>middle-middle-square</th>\n",
              "      <th>middle-right-square</th>\n",
              "      <th>bottom-left-square</th>\n",
              "      <th>bottom-middle-square</th>\n",
              "      <th>bottom-right-square</th>\n",
              "      <th>class</th>\n",
              "    </tr>\n",
              "  </thead>\n",
              "  <tbody>\n",
              "    <tr>\n",
              "      <th>0</th>\n",
              "      <td>x</td>\n",
              "      <td>x</td>\n",
              "      <td>x</td>\n",
              "      <td>x</td>\n",
              "      <td>o</td>\n",
              "      <td>o</td>\n",
              "      <td>x</td>\n",
              "      <td>o</td>\n",
              "      <td>o</td>\n",
              "      <td>positive</td>\n",
              "    </tr>\n",
              "    <tr>\n",
              "      <th>1</th>\n",
              "      <td>x</td>\n",
              "      <td>x</td>\n",
              "      <td>x</td>\n",
              "      <td>x</td>\n",
              "      <td>o</td>\n",
              "      <td>o</td>\n",
              "      <td>o</td>\n",
              "      <td>x</td>\n",
              "      <td>o</td>\n",
              "      <td>positive</td>\n",
              "    </tr>\n",
              "    <tr>\n",
              "      <th>2</th>\n",
              "      <td>x</td>\n",
              "      <td>x</td>\n",
              "      <td>x</td>\n",
              "      <td>x</td>\n",
              "      <td>o</td>\n",
              "      <td>o</td>\n",
              "      <td>o</td>\n",
              "      <td>o</td>\n",
              "      <td>x</td>\n",
              "      <td>positive</td>\n",
              "    </tr>\n",
              "    <tr>\n",
              "      <th>3</th>\n",
              "      <td>x</td>\n",
              "      <td>x</td>\n",
              "      <td>x</td>\n",
              "      <td>x</td>\n",
              "      <td>o</td>\n",
              "      <td>o</td>\n",
              "      <td>o</td>\n",
              "      <td>b</td>\n",
              "      <td>b</td>\n",
              "      <td>positive</td>\n",
              "    </tr>\n",
              "    <tr>\n",
              "      <th>4</th>\n",
              "      <td>x</td>\n",
              "      <td>x</td>\n",
              "      <td>x</td>\n",
              "      <td>x</td>\n",
              "      <td>o</td>\n",
              "      <td>o</td>\n",
              "      <td>b</td>\n",
              "      <td>o</td>\n",
              "      <td>b</td>\n",
              "      <td>positive</td>\n",
              "    </tr>\n",
              "  </tbody>\n",
              "</table>\n",
              "</div>"
            ],
            "text/plain": [
              "  top-left-square top-middle-square  ... bottom-right-square     class\n",
              "0               x                 x  ...                   o  positive\n",
              "1               x                 x  ...                   o  positive\n",
              "2               x                 x  ...                   x  positive\n",
              "3               x                 x  ...                   b  positive\n",
              "4               x                 x  ...                   b  positive\n",
              "\n",
              "[5 rows x 10 columns]"
            ]
          },
          "metadata": {},
          "execution_count": 3
        }
      ]
    },
    {
      "cell_type": "code",
      "metadata": {
        "colab": {
          "base_uri": "https://localhost:8080/"
        },
        "id": "r0G9jNlWXyLo",
        "outputId": "64ebcdfc-2c28-4470-93bf-0edd42ede925"
      },
      "source": [
        "le_obj = LabelEncoder()\n",
        "\n",
        "for i in df.columns:\n",
        "  df[i]=le_obj.fit_transform(df[i])\n",
        "\n",
        "attributes = list(df.columns)\n",
        "attributes.remove('class')\n",
        "X = df[attributes].values.astype(np.float32) #input dataset\n",
        "y = df['class'].tolist()       #output dataset\n",
        "\n",
        "scaler=StandardScaler()\n",
        "X=scaler.fit_transform(X)  \n",
        "\n",
        "X_train, X_test, y_train, y_test = train_test_split(X, y, test_size=0.2, random_state=123)      #train-test-split\n",
        "\n",
        "classifier1 = SVC(kernel='linear')\n",
        "classifier1.fit(X_train, y_train)\n",
        "\n",
        "# Predicting the Test set results\n",
        "y_pred1 = classifier1.predict(X_test)\n",
        "\n",
        "print(\"Accuracy score with linear classifier is \",accuracy_score(y_pred1,y_test))\n",
        "\n",
        "classifier2 = SVC(kernel = 'rbf')\n",
        "classifier2.fit(X_train, y_train)\n",
        "\n",
        "# Predicting the Test set results\n",
        "y_pred2 = classifier2.predict(X_test)\n",
        "\n",
        "print(\"Accuracy score with rbf classifier is \",accuracy_score(y_pred2,y_test))\n",
        "\n",
        "classifier3 = SVC(kernel='poly',degree=5)\n",
        "classifier3.fit(X_train, y_train)\n",
        "\n",
        "# Predicting the Test set results\n",
        "y_pred3 = classifier3.predict(X_test)\n",
        "\n",
        "print(\"Accuracy score with polynomial classifier is \",accuracy_score(y_pred3,y_test))\n"
      ],
      "execution_count": 4,
      "outputs": [
        {
          "output_type": "stream",
          "name": "stdout",
          "text": [
            "Accuracy score with linear classifier is  0.6510416666666666\n",
            "Accuracy score with rbf classifier is  0.8854166666666666\n",
            "Accuracy score with polynomial classifier is  0.8229166666666666\n"
          ]
        }
      ]
    },
    {
      "cell_type": "code",
      "metadata": {
        "colab": {
          "base_uri": "https://localhost:8080/"
        },
        "id": "y0TkDmMYjh-a",
        "outputId": "84206695-9845-4e1e-900a-a52fe7bda2bb"
      },
      "source": [
        "#plotting the accuracy in the form of classification report\n",
        "#linear\n",
        "from sklearn.metrics import classification_report\n",
        "print(classification_report(y_test,y_pred1))"
      ],
      "execution_count": 5,
      "outputs": [
        {
          "output_type": "stream",
          "name": "stdout",
          "text": [
            "              precision    recall  f1-score   support\n",
            "\n",
            "           0       0.00      0.00      0.00        67\n",
            "           1       0.65      1.00      0.79       125\n",
            "\n",
            "    accuracy                           0.65       192\n",
            "   macro avg       0.33      0.50      0.39       192\n",
            "weighted avg       0.42      0.65      0.51       192\n",
            "\n"
          ]
        },
        {
          "output_type": "stream",
          "name": "stderr",
          "text": [
            "/usr/local/lib/python3.7/dist-packages/sklearn/metrics/_classification.py:1272: UndefinedMetricWarning: Precision and F-score are ill-defined and being set to 0.0 in labels with no predicted samples. Use `zero_division` parameter to control this behavior.\n",
            "  _warn_prf(average, modifier, msg_start, len(result))\n"
          ]
        }
      ]
    },
    {
      "cell_type": "code",
      "metadata": {
        "colab": {
          "base_uri": "https://localhost:8080/"
        },
        "id": "_bGGV1qljnLg",
        "outputId": "c447567e-8b12-4386-92b6-ce3040b2c77a"
      },
      "source": [
        "#rbf\n",
        "from sklearn.metrics import classification_report\n",
        "print(classification_report(y_test,y_pred2))"
      ],
      "execution_count": 6,
      "outputs": [
        {
          "output_type": "stream",
          "name": "stdout",
          "text": [
            "              precision    recall  f1-score   support\n",
            "\n",
            "           0       0.96      0.70      0.81        67\n",
            "           1       0.86      0.98      0.92       125\n",
            "\n",
            "    accuracy                           0.89       192\n",
            "   macro avg       0.91      0.84      0.86       192\n",
            "weighted avg       0.89      0.89      0.88       192\n",
            "\n"
          ]
        }
      ]
    },
    {
      "cell_type": "code",
      "metadata": {
        "id": "3c1J3PgThfA2",
        "colab": {
          "base_uri": "https://localhost:8080/"
        },
        "outputId": "fa425683-6f73-4820-fa43-c6e342610e52"
      },
      "source": [
        "#polynomial\n",
        "from sklearn.metrics import classification_report\n",
        "print(classification_report(y_test,y_pred3))"
      ],
      "execution_count": 7,
      "outputs": [
        {
          "output_type": "stream",
          "name": "stdout",
          "text": [
            "              precision    recall  f1-score   support\n",
            "\n",
            "           0       0.87      0.58      0.70        67\n",
            "           1       0.81      0.95      0.88       125\n",
            "\n",
            "    accuracy                           0.82       192\n",
            "   macro avg       0.84      0.77      0.79       192\n",
            "weighted avg       0.83      0.82      0.81       192\n",
            "\n"
          ]
        }
      ]
    }
  ]
}